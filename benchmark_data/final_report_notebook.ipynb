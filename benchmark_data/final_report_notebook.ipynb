{
 "cells": [
  {
   "cell_type": "code",
   "execution_count": 4,
   "id": "705dbc9d-3c1b-4f00-8ca7-0a1c42ceaf8b",
   "metadata": {
    "scrolled": true
   },
   "outputs": [],
   "source": [
    "# Notebook created solely for the final report based off the prototype and presentation ones.\n",
    "import polars as pl\n",
    "import matplotlib.pyplot as plt\n",
    "\n",
    "plt.style.use(\"seaborn-v0_8\")\n",
    "\n",
    "# FRIENDLY NAMES:\n",
    "FRIENDLY_NAMES = {\n",
    "    \"C\": \"C\",\n",
    "    \"CXX\": \"C++\",\n",
    "    \"RUST\": \"RUST\",\n",
    "    \"RUST_OOB\": \"UNSAFE RUST (No Out-of-Bounds)\",\n",
    "    \"RUST_RAW\": \"UNSAFE RUST (Raw Pointers)\",\n",
    "}"
   ]
  },
  {
   "cell_type": "code",
   "execution_count": 5,
   "id": "a76e5913-3a1f-4f7a-837b-9cb9e8ac22a6",
   "metadata": {},
   "outputs": [
    {
     "ename": "FileNotFoundError",
     "evalue": "The system cannot find the file specified. (os error 2): sorting-win32.csv",
     "output_type": "error",
     "traceback": [
      "\u001b[31m---------------------------------------------------------------------------\u001b[39m",
      "\u001b[31mFileNotFoundError\u001b[39m                         Traceback (most recent call last)",
      "\u001b[36mCell\u001b[39m\u001b[36m \u001b[39m\u001b[32mIn[5]\u001b[39m\u001b[32m, line 2\u001b[39m\n\u001b[32m      1\u001b[39m \u001b[38;5;66;03m# GRAPH A: A Direct Benchmark Between Rust, C, and C++\u001b[39;00m\n\u001b[32m----> \u001b[39m\u001b[32m2\u001b[39m df_win32 = \u001b[43mpl\u001b[49m\u001b[43m.\u001b[49m\u001b[43mread_csv\u001b[49m\u001b[43m(\u001b[49m\u001b[33;43m\"\u001b[39;49m\u001b[33;43msorting-win32.csv\u001b[39;49m\u001b[33;43m\"\u001b[39;49m\u001b[43m)\u001b[49m.select([\u001b[33m\"\u001b[39m\u001b[33mRUST\u001b[39m\u001b[33m\"\u001b[39m, \u001b[33m\"\u001b[39m\u001b[33mC\u001b[39m\u001b[33m\"\u001b[39m, \u001b[33m\"\u001b[39m\u001b[33mCXX\u001b[39m\u001b[33m\"\u001b[39m])\n\u001b[32m      3\u001b[39m df_osx = pl.read_csv(\u001b[33m\"\u001b[39m\u001b[33msorting-win32.csv\u001b[39m\u001b[33m\"\u001b[39m).select([\u001b[33m\"\u001b[39m\u001b[33mRUST\u001b[39m\u001b[33m\"\u001b[39m, \u001b[33m\"\u001b[39m\u001b[33mC\u001b[39m\u001b[33m\"\u001b[39m, \u001b[33m\"\u001b[39m\u001b[33mCXX\u001b[39m\u001b[33m\"\u001b[39m])\n\u001b[32m      5\u001b[39m fig, ax = plt.subplots(figsize=(\u001b[32m15\u001b[39m, \u001b[32m8\u001b[39m))\n",
      "\u001b[36mFile \u001b[39m\u001b[32m~\\AppData\\Local\\Programs\\Python\\Python313\\Lib\\site-packages\\polars\\_utils\\deprecation.py:119\u001b[39m, in \u001b[36mdeprecate_renamed_parameter.<locals>.decorate.<locals>.wrapper\u001b[39m\u001b[34m(*args, **kwargs)\u001b[39m\n\u001b[32m    114\u001b[39m \u001b[38;5;129m@wraps\u001b[39m(function)\n\u001b[32m    115\u001b[39m \u001b[38;5;28;01mdef\u001b[39;00m\u001b[38;5;250m \u001b[39m\u001b[34mwrapper\u001b[39m(*args: P.args, **kwargs: P.kwargs) -> T:\n\u001b[32m    116\u001b[39m     _rename_keyword_argument(\n\u001b[32m    117\u001b[39m         old_name, new_name, kwargs, function.\u001b[34m__qualname__\u001b[39m, version\n\u001b[32m    118\u001b[39m     )\n\u001b[32m--> \u001b[39m\u001b[32m119\u001b[39m     \u001b[38;5;28;01mreturn\u001b[39;00m \u001b[43mfunction\u001b[49m\u001b[43m(\u001b[49m\u001b[43m*\u001b[49m\u001b[43margs\u001b[49m\u001b[43m,\u001b[49m\u001b[43m \u001b[49m\u001b[43m*\u001b[49m\u001b[43m*\u001b[49m\u001b[43mkwargs\u001b[49m\u001b[43m)\u001b[49m\n",
      "\u001b[36mFile \u001b[39m\u001b[32m~\\AppData\\Local\\Programs\\Python\\Python313\\Lib\\site-packages\\polars\\_utils\\deprecation.py:119\u001b[39m, in \u001b[36mdeprecate_renamed_parameter.<locals>.decorate.<locals>.wrapper\u001b[39m\u001b[34m(*args, **kwargs)\u001b[39m\n\u001b[32m    114\u001b[39m \u001b[38;5;129m@wraps\u001b[39m(function)\n\u001b[32m    115\u001b[39m \u001b[38;5;28;01mdef\u001b[39;00m\u001b[38;5;250m \u001b[39m\u001b[34mwrapper\u001b[39m(*args: P.args, **kwargs: P.kwargs) -> T:\n\u001b[32m    116\u001b[39m     _rename_keyword_argument(\n\u001b[32m    117\u001b[39m         old_name, new_name, kwargs, function.\u001b[34m__qualname__\u001b[39m, version\n\u001b[32m    118\u001b[39m     )\n\u001b[32m--> \u001b[39m\u001b[32m119\u001b[39m     \u001b[38;5;28;01mreturn\u001b[39;00m \u001b[43mfunction\u001b[49m\u001b[43m(\u001b[49m\u001b[43m*\u001b[49m\u001b[43margs\u001b[49m\u001b[43m,\u001b[49m\u001b[43m \u001b[49m\u001b[43m*\u001b[49m\u001b[43m*\u001b[49m\u001b[43mkwargs\u001b[49m\u001b[43m)\u001b[49m\n",
      "\u001b[36mFile \u001b[39m\u001b[32m~\\AppData\\Local\\Programs\\Python\\Python313\\Lib\\site-packages\\polars\\_utils\\deprecation.py:119\u001b[39m, in \u001b[36mdeprecate_renamed_parameter.<locals>.decorate.<locals>.wrapper\u001b[39m\u001b[34m(*args, **kwargs)\u001b[39m\n\u001b[32m    114\u001b[39m \u001b[38;5;129m@wraps\u001b[39m(function)\n\u001b[32m    115\u001b[39m \u001b[38;5;28;01mdef\u001b[39;00m\u001b[38;5;250m \u001b[39m\u001b[34mwrapper\u001b[39m(*args: P.args, **kwargs: P.kwargs) -> T:\n\u001b[32m    116\u001b[39m     _rename_keyword_argument(\n\u001b[32m    117\u001b[39m         old_name, new_name, kwargs, function.\u001b[34m__qualname__\u001b[39m, version\n\u001b[32m    118\u001b[39m     )\n\u001b[32m--> \u001b[39m\u001b[32m119\u001b[39m     \u001b[38;5;28;01mreturn\u001b[39;00m \u001b[43mfunction\u001b[49m\u001b[43m(\u001b[49m\u001b[43m*\u001b[49m\u001b[43margs\u001b[49m\u001b[43m,\u001b[49m\u001b[43m \u001b[49m\u001b[43m*\u001b[49m\u001b[43m*\u001b[49m\u001b[43mkwargs\u001b[49m\u001b[43m)\u001b[49m\n",
      "\u001b[36mFile \u001b[39m\u001b[32m~\\AppData\\Local\\Programs\\Python\\Python313\\Lib\\site-packages\\polars\\io\\csv\\functions.py:539\u001b[39m, in \u001b[36mread_csv\u001b[39m\u001b[34m(source, has_header, columns, new_columns, separator, comment_prefix, quote_char, skip_rows, skip_lines, schema, schema_overrides, null_values, missing_utf8_is_empty_string, ignore_errors, try_parse_dates, n_threads, infer_schema, infer_schema_length, batch_size, n_rows, encoding, low_memory, rechunk, use_pyarrow, storage_options, skip_rows_after_header, row_index_name, row_index_offset, sample_size, eol_char, raise_if_empty, truncate_ragged_lines, decimal_comma, glob)\u001b[39m\n\u001b[32m    531\u001b[39m \u001b[38;5;28;01melse\u001b[39;00m:\n\u001b[32m    532\u001b[39m     \u001b[38;5;28;01mwith\u001b[39;00m prepare_file_arg(\n\u001b[32m    533\u001b[39m         source,\n\u001b[32m    534\u001b[39m         encoding=encoding,\n\u001b[32m   (...)\u001b[39m\u001b[32m    537\u001b[39m         storage_options=storage_options,\n\u001b[32m    538\u001b[39m     ) \u001b[38;5;28;01mas\u001b[39;00m data:\n\u001b[32m--> \u001b[39m\u001b[32m539\u001b[39m         df = \u001b[43m_read_csv_impl\u001b[49m\u001b[43m(\u001b[49m\n\u001b[32m    540\u001b[39m \u001b[43m            \u001b[49m\u001b[43mdata\u001b[49m\u001b[43m,\u001b[49m\n\u001b[32m    541\u001b[39m \u001b[43m            \u001b[49m\u001b[43mhas_header\u001b[49m\u001b[43m=\u001b[49m\u001b[43mhas_header\u001b[49m\u001b[43m,\u001b[49m\n\u001b[32m    542\u001b[39m \u001b[43m            \u001b[49m\u001b[43mcolumns\u001b[49m\u001b[43m=\u001b[49m\u001b[43mcolumns\u001b[49m\u001b[43m \u001b[49m\u001b[38;5;28;43;01mif\u001b[39;49;00m\u001b[43m \u001b[49m\u001b[43mcolumns\u001b[49m\u001b[43m \u001b[49m\u001b[38;5;28;43;01melse\u001b[39;49;00m\u001b[43m \u001b[49m\u001b[43mprojection\u001b[49m\u001b[43m,\u001b[49m\n\u001b[32m    543\u001b[39m \u001b[43m            \u001b[49m\u001b[43mseparator\u001b[49m\u001b[43m=\u001b[49m\u001b[43mseparator\u001b[49m\u001b[43m,\u001b[49m\n\u001b[32m    544\u001b[39m \u001b[43m            \u001b[49m\u001b[43mcomment_prefix\u001b[49m\u001b[43m=\u001b[49m\u001b[43mcomment_prefix\u001b[49m\u001b[43m,\u001b[49m\n\u001b[32m    545\u001b[39m \u001b[43m            \u001b[49m\u001b[43mquote_char\u001b[49m\u001b[43m=\u001b[49m\u001b[43mquote_char\u001b[49m\u001b[43m,\u001b[49m\n\u001b[32m    546\u001b[39m \u001b[43m            \u001b[49m\u001b[43mskip_rows\u001b[49m\u001b[43m=\u001b[49m\u001b[43mskip_rows\u001b[49m\u001b[43m,\u001b[49m\n\u001b[32m    547\u001b[39m \u001b[43m            \u001b[49m\u001b[43mskip_lines\u001b[49m\u001b[43m=\u001b[49m\u001b[43mskip_lines\u001b[49m\u001b[43m,\u001b[49m\n\u001b[32m    548\u001b[39m \u001b[43m            \u001b[49m\u001b[43mschema_overrides\u001b[49m\u001b[43m=\u001b[49m\u001b[43mschema_overrides\u001b[49m\u001b[43m,\u001b[49m\n\u001b[32m    549\u001b[39m \u001b[43m            \u001b[49m\u001b[43mschema\u001b[49m\u001b[43m=\u001b[49m\u001b[43mschema\u001b[49m\u001b[43m,\u001b[49m\n\u001b[32m    550\u001b[39m \u001b[43m            \u001b[49m\u001b[43mnull_values\u001b[49m\u001b[43m=\u001b[49m\u001b[43mnull_values\u001b[49m\u001b[43m,\u001b[49m\n\u001b[32m    551\u001b[39m \u001b[43m            \u001b[49m\u001b[43mmissing_utf8_is_empty_string\u001b[49m\u001b[43m=\u001b[49m\u001b[43mmissing_utf8_is_empty_string\u001b[49m\u001b[43m,\u001b[49m\n\u001b[32m    552\u001b[39m \u001b[43m            \u001b[49m\u001b[43mignore_errors\u001b[49m\u001b[43m=\u001b[49m\u001b[43mignore_errors\u001b[49m\u001b[43m,\u001b[49m\n\u001b[32m    553\u001b[39m \u001b[43m            \u001b[49m\u001b[43mtry_parse_dates\u001b[49m\u001b[43m=\u001b[49m\u001b[43mtry_parse_dates\u001b[49m\u001b[43m,\u001b[49m\n\u001b[32m    554\u001b[39m \u001b[43m            \u001b[49m\u001b[43mn_threads\u001b[49m\u001b[43m=\u001b[49m\u001b[43mn_threads\u001b[49m\u001b[43m,\u001b[49m\n\u001b[32m    555\u001b[39m \u001b[43m            \u001b[49m\u001b[43minfer_schema_length\u001b[49m\u001b[43m=\u001b[49m\u001b[43minfer_schema_length\u001b[49m\u001b[43m,\u001b[49m\n\u001b[32m    556\u001b[39m \u001b[43m            \u001b[49m\u001b[43mbatch_size\u001b[49m\u001b[43m=\u001b[49m\u001b[43mbatch_size\u001b[49m\u001b[43m,\u001b[49m\n\u001b[32m    557\u001b[39m \u001b[43m            \u001b[49m\u001b[43mn_rows\u001b[49m\u001b[43m=\u001b[49m\u001b[43mn_rows\u001b[49m\u001b[43m,\u001b[49m\n\u001b[32m    558\u001b[39m \u001b[43m            \u001b[49m\u001b[43mencoding\u001b[49m\u001b[43m=\u001b[49m\u001b[43mencoding\u001b[49m\u001b[43m \u001b[49m\u001b[38;5;28;43;01mif\u001b[39;49;00m\u001b[43m \u001b[49m\u001b[43mencoding\u001b[49m\u001b[43m \u001b[49m\u001b[43m==\u001b[49m\u001b[43m \u001b[49m\u001b[33;43m\"\u001b[39;49m\u001b[33;43mutf8-lossy\u001b[39;49m\u001b[33;43m\"\u001b[39;49m\u001b[43m \u001b[49m\u001b[38;5;28;43;01melse\u001b[39;49;00m\u001b[43m \u001b[49m\u001b[33;43m\"\u001b[39;49m\u001b[33;43mutf8\u001b[39;49m\u001b[33;43m\"\u001b[39;49m\u001b[43m,\u001b[49m\n\u001b[32m    559\u001b[39m \u001b[43m            \u001b[49m\u001b[43mlow_memory\u001b[49m\u001b[43m=\u001b[49m\u001b[43mlow_memory\u001b[49m\u001b[43m,\u001b[49m\n\u001b[32m    560\u001b[39m \u001b[43m            \u001b[49m\u001b[43mrechunk\u001b[49m\u001b[43m=\u001b[49m\u001b[43mrechunk\u001b[49m\u001b[43m,\u001b[49m\n\u001b[32m    561\u001b[39m \u001b[43m            \u001b[49m\u001b[43mskip_rows_after_header\u001b[49m\u001b[43m=\u001b[49m\u001b[43mskip_rows_after_header\u001b[49m\u001b[43m,\u001b[49m\n\u001b[32m    562\u001b[39m \u001b[43m            \u001b[49m\u001b[43mrow_index_name\u001b[49m\u001b[43m=\u001b[49m\u001b[43mrow_index_name\u001b[49m\u001b[43m,\u001b[49m\n\u001b[32m    563\u001b[39m \u001b[43m            \u001b[49m\u001b[43mrow_index_offset\u001b[49m\u001b[43m=\u001b[49m\u001b[43mrow_index_offset\u001b[49m\u001b[43m,\u001b[49m\n\u001b[32m    564\u001b[39m \u001b[43m            \u001b[49m\u001b[43meol_char\u001b[49m\u001b[43m=\u001b[49m\u001b[43meol_char\u001b[49m\u001b[43m,\u001b[49m\n\u001b[32m    565\u001b[39m \u001b[43m            \u001b[49m\u001b[43mraise_if_empty\u001b[49m\u001b[43m=\u001b[49m\u001b[43mraise_if_empty\u001b[49m\u001b[43m,\u001b[49m\n\u001b[32m    566\u001b[39m \u001b[43m            \u001b[49m\u001b[43mtruncate_ragged_lines\u001b[49m\u001b[43m=\u001b[49m\u001b[43mtruncate_ragged_lines\u001b[49m\u001b[43m,\u001b[49m\n\u001b[32m    567\u001b[39m \u001b[43m            \u001b[49m\u001b[43mdecimal_comma\u001b[49m\u001b[43m=\u001b[49m\u001b[43mdecimal_comma\u001b[49m\u001b[43m,\u001b[49m\n\u001b[32m    568\u001b[39m \u001b[43m            \u001b[49m\u001b[43mglob\u001b[49m\u001b[43m=\u001b[49m\u001b[43mglob\u001b[49m\u001b[43m,\u001b[49m\n\u001b[32m    569\u001b[39m \u001b[43m        \u001b[49m\u001b[43m)\u001b[49m\n\u001b[32m    571\u001b[39m \u001b[38;5;28;01mif\u001b[39;00m new_columns:\n\u001b[32m    572\u001b[39m     \u001b[38;5;28;01mreturn\u001b[39;00m _update_columns(df, new_columns)\n",
      "\u001b[36mFile \u001b[39m\u001b[32m~\\AppData\\Local\\Programs\\Python\\Python313\\Lib\\site-packages\\polars\\io\\csv\\functions.py:687\u001b[39m, in \u001b[36m_read_csv_impl\u001b[39m\u001b[34m(source, has_header, columns, separator, comment_prefix, quote_char, skip_rows, skip_lines, schema, schema_overrides, null_values, missing_utf8_is_empty_string, ignore_errors, try_parse_dates, n_threads, infer_schema_length, batch_size, n_rows, encoding, low_memory, rechunk, skip_rows_after_header, row_index_name, row_index_offset, sample_size, eol_char, raise_if_empty, truncate_ragged_lines, decimal_comma, glob)\u001b[39m\n\u001b[32m    683\u001b[39m         \u001b[38;5;28;01mraise\u001b[39;00m \u001b[38;5;167;01mValueError\u001b[39;00m(msg)\n\u001b[32m    685\u001b[39m projection, columns = parse_columns_arg(columns)\n\u001b[32m--> \u001b[39m\u001b[32m687\u001b[39m pydf = \u001b[43mPyDataFrame\u001b[49m\u001b[43m.\u001b[49m\u001b[43mread_csv\u001b[49m\u001b[43m(\u001b[49m\n\u001b[32m    688\u001b[39m \u001b[43m    \u001b[49m\u001b[43msource\u001b[49m\u001b[43m,\u001b[49m\n\u001b[32m    689\u001b[39m \u001b[43m    \u001b[49m\u001b[43minfer_schema_length\u001b[49m\u001b[43m,\u001b[49m\n\u001b[32m    690\u001b[39m \u001b[43m    \u001b[49m\u001b[43mbatch_size\u001b[49m\u001b[43m,\u001b[49m\n\u001b[32m    691\u001b[39m \u001b[43m    \u001b[49m\u001b[43mhas_header\u001b[49m\u001b[43m,\u001b[49m\n\u001b[32m    692\u001b[39m \u001b[43m    \u001b[49m\u001b[43mignore_errors\u001b[49m\u001b[43m,\u001b[49m\n\u001b[32m    693\u001b[39m \u001b[43m    \u001b[49m\u001b[43mn_rows\u001b[49m\u001b[43m,\u001b[49m\n\u001b[32m    694\u001b[39m \u001b[43m    \u001b[49m\u001b[43mskip_rows\u001b[49m\u001b[43m,\u001b[49m\n\u001b[32m    695\u001b[39m \u001b[43m    \u001b[49m\u001b[43mskip_lines\u001b[49m\u001b[43m,\u001b[49m\n\u001b[32m    696\u001b[39m \u001b[43m    \u001b[49m\u001b[43mprojection\u001b[49m\u001b[43m,\u001b[49m\n\u001b[32m    697\u001b[39m \u001b[43m    \u001b[49m\u001b[43mseparator\u001b[49m\u001b[43m,\u001b[49m\n\u001b[32m    698\u001b[39m \u001b[43m    \u001b[49m\u001b[43mrechunk\u001b[49m\u001b[43m,\u001b[49m\n\u001b[32m    699\u001b[39m \u001b[43m    \u001b[49m\u001b[43mcolumns\u001b[49m\u001b[43m,\u001b[49m\n\u001b[32m    700\u001b[39m \u001b[43m    \u001b[49m\u001b[43mencoding\u001b[49m\u001b[43m,\u001b[49m\n\u001b[32m    701\u001b[39m \u001b[43m    \u001b[49m\u001b[43mn_threads\u001b[49m\u001b[43m,\u001b[49m\n\u001b[32m    702\u001b[39m \u001b[43m    \u001b[49m\u001b[43mpath\u001b[49m\u001b[43m,\u001b[49m\n\u001b[32m    703\u001b[39m \u001b[43m    \u001b[49m\u001b[43mdtype_list\u001b[49m\u001b[43m,\u001b[49m\n\u001b[32m    704\u001b[39m \u001b[43m    \u001b[49m\u001b[43mdtype_slice\u001b[49m\u001b[43m,\u001b[49m\n\u001b[32m    705\u001b[39m \u001b[43m    \u001b[49m\u001b[43mlow_memory\u001b[49m\u001b[43m,\u001b[49m\n\u001b[32m    706\u001b[39m \u001b[43m    \u001b[49m\u001b[43mcomment_prefix\u001b[49m\u001b[43m,\u001b[49m\n\u001b[32m    707\u001b[39m \u001b[43m    \u001b[49m\u001b[43mquote_char\u001b[49m\u001b[43m,\u001b[49m\n\u001b[32m    708\u001b[39m \u001b[43m    \u001b[49m\u001b[43mprocessed_null_values\u001b[49m\u001b[43m,\u001b[49m\n\u001b[32m    709\u001b[39m \u001b[43m    \u001b[49m\u001b[43mmissing_utf8_is_empty_string\u001b[49m\u001b[43m,\u001b[49m\n\u001b[32m    710\u001b[39m \u001b[43m    \u001b[49m\u001b[43mtry_parse_dates\u001b[49m\u001b[43m,\u001b[49m\n\u001b[32m    711\u001b[39m \u001b[43m    \u001b[49m\u001b[43mskip_rows_after_header\u001b[49m\u001b[43m,\u001b[49m\n\u001b[32m    712\u001b[39m \u001b[43m    \u001b[49m\u001b[43mparse_row_index_args\u001b[49m\u001b[43m(\u001b[49m\u001b[43mrow_index_name\u001b[49m\u001b[43m,\u001b[49m\u001b[43m \u001b[49m\u001b[43mrow_index_offset\u001b[49m\u001b[43m)\u001b[49m\u001b[43m,\u001b[49m\n\u001b[32m    713\u001b[39m \u001b[43m    \u001b[49m\u001b[43meol_char\u001b[49m\u001b[43m=\u001b[49m\u001b[43meol_char\u001b[49m\u001b[43m,\u001b[49m\n\u001b[32m    714\u001b[39m \u001b[43m    \u001b[49m\u001b[43mraise_if_empty\u001b[49m\u001b[43m=\u001b[49m\u001b[43mraise_if_empty\u001b[49m\u001b[43m,\u001b[49m\n\u001b[32m    715\u001b[39m \u001b[43m    \u001b[49m\u001b[43mtruncate_ragged_lines\u001b[49m\u001b[43m=\u001b[49m\u001b[43mtruncate_ragged_lines\u001b[49m\u001b[43m,\u001b[49m\n\u001b[32m    716\u001b[39m \u001b[43m    \u001b[49m\u001b[43mdecimal_comma\u001b[49m\u001b[43m=\u001b[49m\u001b[43mdecimal_comma\u001b[49m\u001b[43m,\u001b[49m\n\u001b[32m    717\u001b[39m \u001b[43m    \u001b[49m\u001b[43mschema\u001b[49m\u001b[43m=\u001b[49m\u001b[43mschema\u001b[49m\u001b[43m,\u001b[49m\n\u001b[32m    718\u001b[39m \u001b[43m\u001b[49m\u001b[43m)\u001b[49m\n\u001b[32m    719\u001b[39m \u001b[38;5;28;01mreturn\u001b[39;00m wrap_df(pydf)\n",
      "\u001b[31mFileNotFoundError\u001b[39m: The system cannot find the file specified. (os error 2): sorting-win32.csv"
     ]
    }
   ],
   "source": [
    "# GRAPH A: A Direct Benchmark Between Rust, C, and C++\n",
    "df_win32 = pl.read_csv(\"sorting-win32.csv\").select([\"RUST\", \"C\", \"CXX\"])\n",
    "df_osx = pl.read_csv(\"sorting-win32.csv\").select([\"RUST\", \"C\", \"CXX\"])\n",
    "\n",
    "fig, ax = plt.subplots(figsize=(15, 8))\n",
    "\n",
    "win_plot = ax.boxplot(df_win32, orientation=\"horizontal\", patch_artist=True,\n",
    "           label=[\"RUST\", \"C\", \"C++\"], positions=[0.2, 1.2, 2.2], widths=[0.3, 0.3, 0.3])\n",
    "osx_plot = ax.boxplot(df_win32, orientation=\"horizontal\", patch_artist=True,\n",
    "           label=[\"RUST\", \"C\", \"C++\"], positions=[-0.2, 0.8, 1.8], widths=[0.3, 0.3, 0.3])\n",
    "\n",
    "for box in win_plot[\"boxes\"]:\n",
    "    box.set_facecolor(\"xkcd:grapefruit\")\n",
    "\n",
    "for box in osx_plot[\"boxes\"]:\n",
    "    box.set_facecolor(\"xkcd:light periwinkle\")\n",
    "\n",
    "ax.axhline(y=0.5, color=\"white\", lw=20)\n",
    "ax.axhline(y=1.5, color=\"white\", lw=20)\n",
    "\n",
    "ax.set_yticks([0.2, -0.2, 1.2, 0.8, 2.2, 1.8], minor=True)\n",
    "ax.set_yticklabels([\"WINDOWS\", \"MAC OSX\", \"WINDOWS\", \"MAC OSX\", \"WINDOWS\", \"MAC OSX\"],\n",
    "                   minor=True, fontweight=\"bold\", color=\"r\", fontsize=12)\n",
    "ax.set_yticks(range(3))\n",
    "ax.set_yticklabels([\"C\", \"CXX\", \"RUST\"], fontsize=10, color=\"red\", fontweight=\"bold\");\n",
    "ax.set_title(\"Bubble Sort Benchmark: C, C++, Rust\", fontsize=18, fontweight=\"bold\")\n",
    "ax.set_xlabel(\"Seconds\", fontsize=14);"
   ]
  },
  {
   "cell_type": "code",
   "execution_count": null,
   "id": "744723f5-307c-4bcc-91cf-e263186c3c58",
   "metadata": {},
   "outputs": [],
   "source": [
    "# GRAPH 2: Benchmarking Unsafe vs Safe Rust -- Revisiting Bubble Sort\n",
    "# RUST, RUST_OOB, RUST_RAW\n",
    "HEADERS = [\"RUST\", \"RUST_OOB\", \"RUST_RAW\"]\n",
    "df_win32 = pl.read_csv(\"bubble-win32.csv\").select(HEADERS)\n",
    "df_osx = pl.read_csv(\"bubble-win32.csv\").select(HEADERS)\n",
    "\n",
    "fig, ax = plt.subplots(figsize=(15, 8))\n",
    "\n",
    "win_plot = ax.boxplot(df_win32, orientation=\"horizontal\", patch_artist=True,\n",
    "           label=[\"RUST\", \"RUST (No OOB)\", \"RUST (Raw Pointers)\"], positions=[0.2, 1.2, 2.2], widths=[0.3, 0.3, 0.3])\n",
    "osx_plot = ax.boxplot(df_win32, orientation=\"horizontal\", patch_artist=True,\n",
    "           label=[\"RUST\", \"RUST (No OOB)\", \"RUST (Raw Pointers)\"], positions=[-0.2, 0.8, 1.8], widths=[0.3, 0.3, 0.3])\n",
    "\n",
    "for header, box in zip(win_plot[\"boxes\"],):\n",
    "    box.set_facecolor(\"xkcd:grapefruit\")\n",
    "\n",
    "for header, box in osx_plot[\"boxes\"]:\n",
    "    box.set_facecolor(\"xkcd:light periwinkle\")\n",
    "\n",
    "ax.axhline(y=0.5, color=\"white\", lw=20)\n",
    "ax.axhline(y=1.5, color=\"white\", lw=20)\n",
    "\n",
    "ax.set_yticks([0.2, -0.2, 1.2, 0.8, 2.2, 1.8], minor=True)\n",
    "ax.set_yticklabels([\"WINDOWS\", \"OSX\", \"WINDOWS\", \"OSX\", \"WINDOWS\", \"OSX\"],\n",
    "                   minor=True, fontweight=\"bold\", color=\"r\", fontsize=12)\n",
    "ax.set_yticks(range(3))\n",
    "ax.set_yticklabels([\"RUST (Safe)\", \"RUST (No Out-Of-Bounds)\", \"RUST (Raw Pointers)\"], fontsize=10, color=\"red\", fontweight=\"bold\");\n",
    "ax.set_title(\"Bubble Sort Benchmark: Rust and Unsafe Rust\", fontsize=18, fontweight=\"bold\")\n",
    "ax.set_xlabel(\"Time in Seconds\", fontsize=14);"
   ]
  },
  {
   "cell_type": "code",
   "execution_count": 6,
   "id": "a5bdec17-ff2e-4250-99cb-67ee4ebd22f7",
   "metadata": {},
   "outputs": [
    {
     "data": {
      "text/html": [
       "<div><style>\n",
       ".dataframe > thead > tr,\n",
       ".dataframe > tbody > tr {\n",
       "  text-align: right;\n",
       "  white-space: pre-wrap;\n",
       "}\n",
       "</style>\n",
       "<small>shape: (9, 5)</small><table border=\"1\" class=\"dataframe\"><thead><tr><th>statistic</th><th>TIME_MCS</th><th>TIME_NS</th><th>TIME_MS</th><th>TIME_S</th></tr><tr><td>str</td><td>f64</td><td>f64</td><td>f64</td><td>f64</td></tr></thead><tbody><tr><td>&quot;count&quot;</td><td>300000.0</td><td>300000.0</td><td>300000.0</td><td>300000.0</td></tr><tr><td>&quot;null_count&quot;</td><td>0.0</td><td>0.0</td><td>0.0</td><td>0.0</td></tr><tr><td>&quot;mean&quot;</td><td>8.372267</td><td>8823.222</td><td>0.0</td><td>0.000009</td></tr><tr><td>&quot;std&quot;</td><td>5.97519</td><td>5969.418804</td><td>0.0</td><td>0.000006</td></tr><tr><td>&quot;min&quot;</td><td>5.0</td><td>5500.0</td><td>0.0</td><td>0.0000055</td></tr><tr><td>&quot;25%&quot;</td><td>7.0</td><td>7400.0</td><td>0.0</td><td>0.0000074</td></tr><tr><td>&quot;50%&quot;</td><td>8.0</td><td>8400.0</td><td>0.0</td><td>0.0000084</td></tr><tr><td>&quot;75%&quot;</td><td>9.0</td><td>9400.0</td><td>0.0</td><td>0.0000094</td></tr><tr><td>&quot;max&quot;</td><td>920.0</td><td>920500.0</td><td>0.0</td><td>0.0009205</td></tr></tbody></table></div>"
      ],
      "text/plain": [
       "shape: (9, 5)\n",
       "┌────────────┬──────────┬─────────────┬──────────┬───────────┐\n",
       "│ statistic  ┆ TIME_MCS ┆ TIME_NS     ┆ TIME_MS  ┆ TIME_S    │\n",
       "│ ---        ┆ ---      ┆ ---         ┆ ---      ┆ ---       │\n",
       "│ str        ┆ f64      ┆ f64         ┆ f64      ┆ f64       │\n",
       "╞════════════╪══════════╪═════════════╪══════════╪═══════════╡\n",
       "│ count      ┆ 300000.0 ┆ 300000.0    ┆ 300000.0 ┆ 300000.0  │\n",
       "│ null_count ┆ 0.0      ┆ 0.0         ┆ 0.0      ┆ 0.0       │\n",
       "│ mean       ┆ 8.372267 ┆ 8823.222    ┆ 0.0      ┆ 0.000009  │\n",
       "│ std        ┆ 5.97519  ┆ 5969.418804 ┆ 0.0      ┆ 0.000006  │\n",
       "│ min        ┆ 5.0      ┆ 5500.0      ┆ 0.0      ┆ 0.0000055 │\n",
       "│ 25%        ┆ 7.0      ┆ 7400.0      ┆ 0.0      ┆ 0.0000074 │\n",
       "│ 50%        ┆ 8.0      ┆ 8400.0      ┆ 0.0      ┆ 0.0000084 │\n",
       "│ 75%        ┆ 9.0      ┆ 9400.0      ┆ 0.0      ┆ 0.0000094 │\n",
       "│ max        ┆ 920.0    ┆ 920500.0    ┆ 0.0      ┆ 0.0009205 │\n",
       "└────────────┴──────────┴─────────────┴──────────┴───────────┘"
      ]
     },
     "execution_count": 6,
     "metadata": {},
     "output_type": "execute_result"
    }
   ],
   "source": [
    "# GRAPH 3: SISD vs SIMD (FINAL)\n",
    "df_sisd = pl.read_parquet(\"elementary_ops_sisd.parquet\")\n",
    "df_simd = pl.read_parquet(\"elementary_ops_simd.parquet\")\n",
    "df_sisd.describe()"
   ]
  },
  {
   "cell_type": "code",
   "execution_count": 47,
   "id": "0df8dab5-9007-4be1-a0e9-9c67f3539516",
   "metadata": {},
   "outputs": [
    {
     "data": {
      "text/plain": [
       "Text(0.5, 1.0, 'Rust SISD vs SIMD Instructions Benchmark')"
      ]
     },
     "execution_count": 47,
     "metadata": {},
     "output_type": "execute_result"
    },
    {
     "data": {
      "image/png": "[encoded data removed]",
      "text/plain": [
       "<Figure size 1500x200 with 1 Axes>"
      ]
     },
     "metadata": {},
     "output_type": "display_data"
    }
   ],
   "source": [
    "# GRAPH 3: SISD vs SIMD (FINAL)\n",
    "fig, ax = plt.subplots(figsize=(15, 2))\n",
    "\n",
    "# SISD:\n",
    "win_plot_sisd_df = df_sisd[\"TIME_NS\"]\n",
    "win_plot = ax.boxplot(\n",
    "    x=win_plot_sisd_df, positions=[1],\n",
    "    orientation=\"horizontal\", patch_artist=True, showfliers=0, widths=[0.5])\n",
    "for box in win_plot[\"boxes\"]:\n",
    "    box.set_facecolor(\"xkcd:light green\")\n",
    "\n",
    "sisd_total = ax.annotate(\"Total: %.2f ms\" % (win_plot_sisd_df.sum() / 1e+6), xy=(win_plot_sisd_df.median(), 1.3), fontweight=\"bold\", color=\"black\")\n",
    "sisd_total.set_horizontalalignment(\"center\")\n",
    "\n",
    "# SIMD:\n",
    "win_plot_simd_df = df_simd[\"TIME_NS\"]\n",
    "win_plot = ax.boxplot(\n",
    "    x=win_plot_simd_df, positions=[2],\n",
    "    orientation=\"horizontal\", patch_artist=True, showfliers=0, widths=[0.5])\n",
    "for box in win_plot[\"boxes\"]:\n",
    "    box.set_facecolor(\"xkcd:light red\")\n",
    "simd_total = ax.annotate(\"Total: %.2f ms\" % (win_plot_simd_df.sum() / 1e+6), xy=(win_plot_simd_df.median(), 2.3), fontweight=\"bold\", color=\"black\")\n",
    "simd_total.set_horizontalalignment(\"center\")\n",
    "\n",
    "ax.set_yticks([1, 2])\n",
    "ax.set_yticklabels([\"SISD\", \"SIMD\"], fontweight=\"bold\", fontsize=12)\n",
    "ax.set_xlabel(\"Time in Nanoseconds\");\n",
    "ax.set_title(\"Rust SISD vs SIMD Instructions Benchmark\", fontsize=14, fontweight=\"bold\")"
   ]
  },
  {
   "cell_type": "code",
   "execution_count": null,
   "id": "07ee3162-2d05-475b-b51d-93068fcff304",
   "metadata": {},
   "outputs": [],
   "source": []
  },
  {
   "cell_type": "code",
   "execution_count": null,
   "id": "214ca6a8-f597-4b38-b729-046d82abd45a",
   "metadata": {},
   "outputs": [],
   "source": []
  }
 ],
 "metadata": {
  "kernelspec": {
   "display_name": "Python 3 (ipykernel)",
   "language": "python",
   "name": "python3"
  },
  "language_info": {
   "codemirror_mode": {
    "name": "ipython",
    "version": 3
   },
   "file_extension": ".py",
   "mimetype": "text/x-python",
   "name": "python",
   "nbconvert_exporter": "python",
   "pygments_lexer": "ipython3",
   "version": "3.13.2"
  }
 },
 "nbformat": 4,
 "nbformat_minor": 5
}
